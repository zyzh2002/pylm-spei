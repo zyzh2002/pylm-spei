{
 "cells": [
  {
   "cell_type": "code",
   "execution_count": 1,
   "metadata": {},
   "outputs": [],
   "source": [
    "import pylm_spei\n",
    "import numpy as np"
   ]
  },
  {
   "cell_type": "code",
   "execution_count": 2,
   "metadata": {},
   "outputs": [],
   "source": [
    "x = np.random.random((100, 100, 100))"
   ]
  },
  {
   "cell_type": "code",
   "execution_count": 12,
   "metadata": {},
   "outputs": [
    {
     "name": "stderr",
     "output_type": "stream",
     "text": [
      "c:\\Users\\zyzh0\\code\\pylm-spei\\pylm_spei\\stats\\distrs.py:9: RuntimeWarning: invalid value encountered in power\n",
      "  return np.exp(-z ** (-1 / c))\n"
     ]
    }
   ],
   "source": [
    "spei = pylm_spei.calc_spei(x)"
   ]
  },
  {
   "cell_type": "code",
   "execution_count": 13,
   "metadata": {},
   "outputs": [
    {
     "data": {
      "text/plain": [
       "array([[[  1.82404033,          nan,   0.94196249, ...,          nan,\n",
       "                  nan,          nan],\n",
       "        [ -4.18454752,  -5.17404411,         -inf, ...,          nan,\n",
       "                  nan,          nan],\n",
       "        [         nan,          nan,          nan, ...,          nan,\n",
       "                  nan,          nan],\n",
       "        ...,\n",
       "        [         nan,  -1.32412014,          nan, ...,          nan,\n",
       "                  nan,  -2.31188592],\n",
       "        [  1.09038683,          nan,          nan, ...,   1.37438123,\n",
       "                  nan,          nan],\n",
       "        [         nan,          nan,  -1.05535825, ...,          nan,\n",
       "                  nan,          nan]],\n",
       "\n",
       "       [[ -7.1172782 , -13.21925268, -14.78784138, ...,          nan,\n",
       "                  nan,          nan],\n",
       "        [ -3.48296816,  -6.27932976,         -inf, ...,          nan,\n",
       "                  nan,          nan],\n",
       "        [ -6.59644767,  -4.32426327,          nan, ...,          nan,\n",
       "                  nan,          nan],\n",
       "        ...,\n",
       "        [         nan,          nan,          nan, ...,          nan,\n",
       "                  nan, -10.04238315],\n",
       "        [  0.36440028,          nan,          nan, ...,   1.05467402,\n",
       "                  nan,          nan],\n",
       "        [         nan,          nan,          nan, ...,          nan,\n",
       "                  nan,          nan]],\n",
       "\n",
       "       [[         nan,          nan,          nan, ...,          nan,\n",
       "                  nan,          nan],\n",
       "        [         nan,          nan,          nan, ...,          nan,\n",
       "                  nan,          nan],\n",
       "        [         nan,          nan,          nan, ...,          nan,\n",
       "                  nan,          nan],\n",
       "        ...,\n",
       "        [         nan,  -1.94884466,          nan, ...,          nan,\n",
       "                  nan,  -7.83165112],\n",
       "        [  1.94120322,  -6.84778231,          nan, ...,   2.08360833,\n",
       "                  nan,          nan],\n",
       "        [         nan,          nan,  -2.83765666, ...,          nan,\n",
       "                  nan,          nan]],\n",
       "\n",
       "       ...,\n",
       "\n",
       "       [[ -2.90557211,  -7.83621866,  -2.77627818, ...,          nan,\n",
       "                  nan,          nan],\n",
       "        [ -4.1961456 ,  -6.58750552,          nan, ...,          nan,\n",
       "                  nan,          nan],\n",
       "        [         nan,          nan,          nan, ...,          nan,\n",
       "                  nan,          nan],\n",
       "        ...,\n",
       "        [         nan,          nan,          nan, ...,          nan,\n",
       "                  nan,          nan],\n",
       "        [-23.81187812,          nan,          nan, ...,          nan,\n",
       "                  nan,          nan],\n",
       "        [         nan,          nan,          nan, ...,          nan,\n",
       "                  nan,  -3.42326884]],\n",
       "\n",
       "       [[ -3.75074146,  -5.52681455,  -8.63814471, ...,          nan,\n",
       "                  nan,          nan],\n",
       "        [         nan,          nan,          nan, ...,          nan,\n",
       "                  nan,          nan],\n",
       "        [         nan,          nan,          nan, ...,          nan,\n",
       "                  nan,          nan],\n",
       "        ...,\n",
       "        [         nan,          nan,          nan, ...,          nan,\n",
       "                  nan,  -6.66607111],\n",
       "        [        -inf,          nan,          nan, ...,          nan,\n",
       "                  nan,          nan],\n",
       "        [ -4.9878313 ,          nan,          nan, ...,          nan,\n",
       "                  nan,  -3.91563534]],\n",
       "\n",
       "       [[-12.5766181 , -16.47847493, -16.49497472, ...,          nan,\n",
       "                  nan,          nan],\n",
       "        [         nan,          nan, -22.11536247, ...,          nan,\n",
       "                  nan,          nan],\n",
       "        [         nan,          nan,          nan, ...,          nan,\n",
       "                  nan,          nan],\n",
       "        ...,\n",
       "        [         nan,  -2.65300432,          nan, ...,          nan,\n",
       "                  nan,  -1.44068564],\n",
       "        [        -inf,          nan,  -1.39487076, ...,  -3.46873564,\n",
       "                  nan,          nan],\n",
       "        [         nan,          nan,  -2.84992453, ...,          nan,\n",
       "                  nan,          nan]]])"
      ]
     },
     "execution_count": 13,
     "metadata": {},
     "output_type": "execute_result"
    }
   ],
   "source": [
    "spei"
   ]
  }
 ],
 "metadata": {
  "kernelspec": {
   "display_name": "pylm-spei",
   "language": "python",
   "name": "python3"
  },
  "language_info": {
   "codemirror_mode": {
    "name": "ipython",
    "version": 3
   },
   "file_extension": ".py",
   "mimetype": "text/x-python",
   "name": "python",
   "nbconvert_exporter": "python",
   "pygments_lexer": "ipython3",
   "version": "3.11.6"
  },
  "orig_nbformat": 4
 },
 "nbformat": 4,
 "nbformat_minor": 2
}
